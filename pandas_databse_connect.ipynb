{
 "cells": [
  {
   "cell_type": "code",
   "execution_count": 14,
   "metadata": {
    "collapsed": true
   },
   "outputs": [],
   "source": [
    "import psycopg2"
   ]
  },
  {
   "cell_type": "code",
   "execution_count": 15,
   "metadata": {
    "collapsed": true
   },
   "outputs": [],
   "source": [
    "from pprint import pprint"
   ]
  },
  {
   "cell_type": "code",
   "execution_count": 16,
   "metadata": {},
   "outputs": [],
   "source": [
    "class DatabaseConnection:\n",
    "    def __init__(self):\n",
    "        try:\n",
    "            self.connection = psycopg2.connect(\n",
    "                \"dbname='db1' user='postgres' host='localhost' password='Prakash@86' port='5432'\")\n",
    "            self.connection.autocommit = True\n",
    "            self.cursor = self.connection.cursor()\n",
    "        except:\n",
    "            pprint(\"Cannot connect to database\")\n",
    "    def create_table(self):\n",
    "        create_table_command = \"CREATE TABLE student(student_ID Numeric, Name varchar(50), Gender varchar(50))\"\n",
    "        self.cursor.execute(create_table_command)\n",
    "    def insert_new_record(self):\n",
    "        new_record = (\"1\",\"Mary\",\"Female\")\n",
    "        insert_command = (\"INSERT INTO student(student_ID, Name, Gender) VALUES('\" + new_record[0] + \"','\" + new_record[1] + \"','\" + new_record[2] +\"')\")\n",
    "        pprint(insert_command)\n",
    "        self.cursor.execute(insert_command)\n",
    "    def query_all(self):\n",
    "        self.cursor.execute(\"SELECT student_ID, Name, Gender FROM student\")\n",
    "        data = self.cursor.fetchall()\n",
    "        pprint(data)\n",
    "    def drop_table(self):\n",
    "        create_table_command = \"DROP TABLE student\"\n",
    "        self.cursor.execute(create_table_command)\n",
    "        \n",
    "if __name__== '__main__':\n",
    "    database_connection = DatabaseConnection()\n",
    "    database_connection.create_table()\n",
    "    database_connection.insert_new_record()\n",
    "    database_connection.query_all()\n",
    "    database_connection.drop_table()\n",
    "    "
   ]
  },
  {
   "cell_type": "code",
   "execution_count": null,
   "metadata": {
    "collapsed": true
   },
   "outputs": [],
   "source": []
  }
 ],
 "metadata": {
  "kernelspec": {
   "display_name": "Python 3",
   "language": "python",
   "name": "python3"
  },
  "language_info": {
   "codemirror_mode": {
    "name": "ipython",
    "version": 3
   },
   "file_extension": ".py",
   "mimetype": "text/x-python",
   "name": "python",
   "nbconvert_exporter": "python",
   "pygments_lexer": "ipython3",
   "version": "3.6.3"
  }
 },
 "nbformat": 4,
 "nbformat_minor": 2
}
