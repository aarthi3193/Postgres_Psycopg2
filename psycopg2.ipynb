{
 "cells": [
  {
   "cell_type": "code",
   "execution_count": 30,
   "metadata": {
    "collapsed": true
   },
   "outputs": [],
   "source": [
    "import pandas as pd\n",
    "\n"
   ]
  },
  {
   "cell_type": "code",
   "execution_count": 31,
   "metadata": {
    "collapsed": true
   },
   "outputs": [],
   "source": [
    "#import Library\n",
    "import psycopg2"
   ]
  },
  {
   "cell_type": "code",
   "execution_count": 32,
   "metadata": {
    "collapsed": true
   },
   "outputs": [],
   "source": [
    "from pprint import pprint"
   ]
  },
  {
   "cell_type": "code",
   "execution_count": 33,
   "metadata": {
    "collapsed": true
   },
   "outputs": [],
   "source": [
    "#connect using pscopg2\n",
    "\n",
    "conn = psycopg2.connect(\"dbname=db1 user=postgres password=Prakash@86 host=localhost\")\n"
   ]
  },
  {
   "cell_type": "code",
   "execution_count": 25,
   "metadata": {
    "collapsed": true
   },
   "outputs": [],
   "source": [
    "#Activate connection cursor\n",
    "cur = conn.cursor()"
   ]
  },
  {
   "cell_type": "code",
   "execution_count": 34,
   "metadata": {},
   "outputs": [
    {
     "data": {
      "text/plain": [
       "[('LP001002',\n",
       "  'Male',\n",
       "  'No',\n",
       "  0,\n",
       "  'Graduate',\n",
       "  'No',\n",
       "  5849,\n",
       "  Decimal('0.0'),\n",
       "  Decimal('0.0'),\n",
       "  Decimal('360.0'),\n",
       "  Decimal('1.0'),\n",
       "  'Urban',\n",
       "  'Y'),\n",
       " ('LP001003',\n",
       "  'Male',\n",
       "  'Yes',\n",
       "  1,\n",
       "  'Graduate',\n",
       "  'No',\n",
       "  4583,\n",
       "  Decimal('1508.0'),\n",
       "  Decimal('128.0'),\n",
       "  Decimal('360.0'),\n",
       "  Decimal('1.0'),\n",
       "  'Rural',\n",
       "  'N'),\n",
       " ('LP001005',\n",
       "  'Male',\n",
       "  'Yes',\n",
       "  0,\n",
       "  'Graduate',\n",
       "  'Yes',\n",
       "  3000,\n",
       "  Decimal('0.0'),\n",
       "  Decimal('66.0'),\n",
       "  Decimal('360.0'),\n",
       "  Decimal('1.0'),\n",
       "  'Urban',\n",
       "  'Y'),\n",
       " ('LP001006',\n",
       "  'Male',\n",
       "  'Yes',\n",
       "  0,\n",
       "  'Not Graduate',\n",
       "  'No',\n",
       "  2583,\n",
       "  Decimal('2358.0'),\n",
       "  Decimal('120.0'),\n",
       "  Decimal('360.0'),\n",
       "  Decimal('1.0'),\n",
       "  'Urban',\n",
       "  'Y'),\n",
       " ('LP001008',\n",
       "  'Male',\n",
       "  'No',\n",
       "  0,\n",
       "  'Graduate',\n",
       "  'No',\n",
       "  6000,\n",
       "  Decimal('0.0'),\n",
       "  Decimal('141.0'),\n",
       "  Decimal('360.0'),\n",
       "  Decimal('1.0'),\n",
       "  'Urban',\n",
       "  'Y')]"
      ]
     },
     "execution_count": 34,
     "metadata": {},
     "output_type": "execute_result"
    }
   ],
   "source": [
    "#Select Table and Display\n",
    "cur.execute(\"SELECT Loan_ID,Gender,Married,Dependents,Education,Self_Employed,ApplicantIncome,CoapplicantIncome,LoanAmount,Loan_Amount_Term,Credit_History,Property_Area,Loan_Status from home_loan LIMIT 5\")\n",
    "rows = cur.fetchall()\n",
    "rows"
   ]
  },
  {
   "cell_type": "code",
   "execution_count": 27,
   "metadata": {
    "collapsed": true
   },
   "outputs": [],
   "source": [
    "#Insert Entry\n",
    "cur.execute(\"INSERT INTO home_loan (Loan_ID,Gender) VALUES (%s,%s)\",(\"LP001004\",\"FEMALE\"))\n",
    "conn.commit()"
   ]
  },
  {
   "cell_type": "code",
   "execution_count": 28,
   "metadata": {
    "collapsed": true
   },
   "outputs": [],
   "source": [
    "#Insert entry\n",
    "#cur.execute(\"INSERT INTO home_loan (Loan_ID,Gender,Married,Dependents,Education,Self_Employed,ApplicantIncome,CoapplicantIncome,LoanAmount,Loan_Amount_Term,Credit_History,Property_Area,Loan_Status) VALUES (%s,%s,%s,%s,%s,%s,%s,%s,%s,%s,%s,%s,%s)\",(\"LP001004\",\"FEMALE\",\"NO\",\"2\",\"Not Graduate\",\"Yes\",\"4000\",\"1000\",\"50\",\"0\",\"Rural\",\"N\"))\n",
    "#conn.commit()"
   ]
  },
  {
   "cell_type": "code",
   "execution_count": 29,
   "metadata": {},
   "outputs": [
    {
     "data": {
      "text/plain": [
       "[('LP001002', 'Male'),\n",
       " ('LP001003', 'Male'),\n",
       " ('LP001005', 'Male'),\n",
       " ('LP001006', 'Male'),\n",
       " ('LP001008', 'Male')]"
      ]
     },
     "execution_count": 29,
     "metadata": {},
     "output_type": "execute_result"
    }
   ],
   "source": [
    "#Display data once again\n",
    "cur.execute(\"SELECT Loan_ID,Gender from home_loan LIMIT 5\")\n",
    "rows = cur.fetchall()\n",
    "rows"
   ]
  },
  {
   "cell_type": "code",
   "execution_count": 13,
   "metadata": {
    "collapsed": true
   },
   "outputs": [],
   "source": [
    "cur.execute(\"DROP TABLE home_loan\")\n",
    "conn.commit()"
   ]
  },
  {
   "cell_type": "code",
   "execution_count": 14,
   "metadata": {
    "collapsed": true
   },
   "outputs": [],
   "source": [
    "#close connection\n",
    "cur.close()\n",
    "conn.close()"
   ]
  },
  {
   "cell_type": "code",
   "execution_count": null,
   "metadata": {
    "collapsed": true
   },
   "outputs": [],
   "source": []
  },
  {
   "cell_type": "code",
   "execution_count": null,
   "metadata": {
    "collapsed": true
   },
   "outputs": [],
   "source": []
  }
 ],
 "metadata": {
  "kernelspec": {
   "display_name": "Python 3",
   "language": "python",
   "name": "python3"
  },
  "language_info": {
   "codemirror_mode": {
    "name": "ipython",
    "version": 3
   },
   "file_extension": ".py",
   "mimetype": "text/x-python",
   "name": "python",
   "nbconvert_exporter": "python",
   "pygments_lexer": "ipython3",
   "version": "3.6.3"
  }
 },
 "nbformat": 4,
 "nbformat_minor": 2
}
